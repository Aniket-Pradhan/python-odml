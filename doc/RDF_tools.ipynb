{
 "cells": [
  {
   "cell_type": "markdown",
   "metadata": {},
   "source": [
    "# What is Semantic Web and RDF?"
   ]
  },
  {
   "cell_type": "markdown",
   "metadata": {},
   "source": [
    "**RDF (Resource Description Framework)** is one of the three foundational [Semantic Web](https://en.wikipedia.org/wiki/Semantic_Web) technologies, the other two being SPARQL and OWL.\n",
    "\n",
    "In particular, RDF is the data model of the Semantic Web. That means that all data in Semantic Web technologies is represented as RDF. If you store Semantic Web data, it's in RDF. If you query Semantic Web data (typically using SPARQL), it's RDF data. If you send Semantic Web data to your friend, it's RDF.\n",
    "\n",
    "RDF data model is based upon the idea of making statements about resources (in particular web resources) in the form of *subject–predicate–object* expressions, known as [*triples*](https://en.wikipedia.org/wiki/Semantic_triple). The *subject* denotes the resource, and the *predicate* denotes traits or aspects of the resource, and expresses a relationship between the *subject* and the *object*.\n",
    "\n",
    "For example, one way to represent the notion \"The sky has the color blue\" in RDF is as the triple: a **subject** denoting *\"the sky\"*, a **predicate** denoting *\"has the color\"*, and an **object** denoting *\"blue\"*. Therefore, RDF uses subject instead of object(or entity) in contrast to the typical approach of an entity–attribute–value model in object-oriented design: entity (sky), attribute (color), and value (blue)."
   ]
  },
  {
   "cell_type": "markdown",
   "metadata": {},
   "source": [
    "![Image](http://dublincore.org/documents/2008/01/14/dc-rdf/rdfexamplefig.png)"
   ]
  },
  {
   "cell_type": "markdown",
   "metadata": {},
   "source": [
    "Find out more: <br>\n",
    "- http://fast.wistia.net/embed/iframe/8nm9xf4jip?popover=true <br>\n",
    "- https://en.wikipedia.org/wiki/Resource_Description_Framework <br>\n",
    "- https://www.cambridgesemantics.com/semantic-university/rdf-101 <br>\n",
    "- http://www.cambridgesemantics.com/semantic-university/introduction-semantic-web-0"
   ]
  },
  {
   "cell_type": "markdown",
   "metadata": {
    "collapsed": true
   },
   "source": [
    "# RDF<->odML converter"
   ]
  },
  {
   "cell_type": "markdown",
   "metadata": {},
   "source": [
    "Here we will explore RDF-odML and odML-RDF conversion in `odml/tools/rdf_converter.py` module."
   ]
  },
  {
   "cell_type": "markdown",
   "metadata": {},
   "source": [
    "Let's create the example odML document."
   ]
  },
  {
   "cell_type": "code",
   "execution_count": 1,
   "metadata": {
    "collapsed": true
   },
   "outputs": [],
   "source": [
    "import os\n",
    "os.chdir('..')\n",
    "\n",
    "import odml\n",
    "import datetime\n",
    "\n",
    "doc = odml.Document(author=\"D. N. Adams\",\n",
    "                    date=datetime.date(1979, 10, 12))\n",
    "\n",
    "# CREATE AND APPEND THE MAIN SECTIONs\n",
    "doc.append(odml.Section(name=\"Arthur Philip Dent\",\n",
    "                           type=\"crew/person\",\n",
    "                           definition=\"Information on Arthur Dent\"))\n",
    "\n",
    "# SET NEW PARENT NODE\n",
    "parent = doc['Arthur Philip Dent']\n",
    "\n",
    "\n",
    "# APPEND PROPERTIES WITH VALUES\n",
    "parent.append(odml.Property(name=\"Species\",\n",
    "                            value=\"Human\",\n",
    "                            dtype=odml.DType.string,\n",
    "                            definition=\"Species to which subject belongs to\"))"
   ]
  },
  {
   "cell_type": "markdown",
   "metadata": {},
   "source": [
    "##RDFWriter class"
   ]
  },
  {
   "cell_type": "markdown",
   "metadata": {},
   "source": [
    "RDFWriter class is used for conversion documents from odML to one of the supported RDF formats:<br>\n",
    "'xml', 'pretty-xml', 'trix', 'n3', 'turtle', 'ttl', 'ntriples', 'nt', 'nt11', 'trig', 'json-ld'.<br>\n",
    "Both one document or list of multiple documents can be passed to `RDFWriter()` constructor.\n",
    "\n",
    "It's possible to get the output as a string."
   ]
  },
  {
   "cell_type": "code",
   "execution_count": 2,
   "metadata": {},
   "outputs": [
    {
     "name": "stdout",
     "output_type": "stream",
     "text": [
      "@prefix odml: <https://g-node.org/projects/odml-rdf#> .\n",
      "@prefix rdf: <http://www.w3.org/1999/02/22-rdf-syntax-ns#> .\n",
      "@prefix rdfs: <http://www.w3.org/2000/01/rdf-schema#> .\n",
      "@prefix xml: <http://www.w3.org/XML/1998/namespace> .\n",
      "@prefix xsd: <http://www.w3.org/2001/XMLSchema#> .\n",
      "\n",
      "odml:Hub odml:hasDocument odml:be49c0c4-58ff-42da-880c-6357abfef048 .\n",
      "\n",
      "<https://g-node.org/projects/odml-rdf#14f1f5cf-e7c6-4038-ae68-6e7be2a88174> a rdf:Bag ;\n",
      "    rdf:li \"Human\" .\n",
      "\n",
      "<https://g-node.org/projects/odml-rdf#2073adf0-fa85-4a8c-be8a-976f79e2106f> a odml:Property ;\n",
      "    odml:hasDefinition \"Species to which subject belongs to\" ;\n",
      "    odml:hasDtype \"string\" ;\n",
      "    odml:hasName \"Species\" ;\n",
      "    odml:hasValue <https://g-node.org/projects/odml-rdf#14f1f5cf-e7c6-4038-ae68-6e7be2a88174> .\n",
      "\n",
      "odml:be49c0c4-58ff-42da-880c-6357abfef048 a odml:Document ;\n",
      "    odml:hasAuthor \"D. N. Adams\" ;\n",
      "    odml:hasDate \"1979-10-12\"^^xsd:date ;\n",
      "    odml:hasSection odml:ca9c8204-2619-4f71-848e-7bf074948661 .\n",
      "\n",
      "odml:ca9c8204-2619-4f71-848e-7bf074948661 a odml:Section ;\n",
      "    odml:hasDefinition \"Information on Arthur Dent\" ;\n",
      "    odml:hasName \"Arthur Philip Dent\" ;\n",
      "    odml:hasProperty <https://g-node.org/projects/odml-rdf#2073adf0-fa85-4a8c-be8a-976f79e2106f> ;\n",
      "    odml:hasType \"crew/person\" .\n",
      "\n",
      "\n"
     ]
    }
   ],
   "source": [
    "from odml.tools.rdf_converter import RDFWriter\n",
    "\n",
    "print(RDFWriter(doc).get_rdf_str('turtle'))"
   ]
  },
  {
   "cell_type": "markdown",
   "metadata": {},
   "source": [
    "Or write the output to the specified file."
   ]
  },
  {
   "cell_type": "code",
   "execution_count": 3,
   "metadata": {},
   "outputs": [
    {
     "name": "stdout",
     "output_type": "stream",
     "text": [
      "@prefix odml: <https://g-node.org/projects/odml-rdf#> .\n",
      "@prefix rdf: <http://www.w3.org/1999/02/22-rdf-syntax-ns#> .\n",
      "@prefix rdfs: <http://www.w3.org/2000/01/rdf-schema#> .\n",
      "@prefix xml: <http://www.w3.org/XML/1998/namespace> .\n",
      "@prefix xsd: <http://www.w3.org/2001/XMLSchema#> .\n",
      "\n",
      "odml:Hub odml:hasDocument odml:be49c0c4-58ff-42da-880c-6357abfef048 .\n",
      "\n",
      "<https://g-node.org/projects/odml-rdf#2073adf0-fa85-4a8c-be8a-976f79e2106f> a odml:Property ;\n",
      "    odml:hasDefinition \"Species to which subject belongs to\" ;\n",
      "    odml:hasDtype \"string\" ;\n",
      "    odml:hasName \"Species\" ;\n",
      "    odml:hasValue odml:f1677a95-e8a1-40bc-b4f4-8a38d235147f .\n",
      "\n",
      "odml:be49c0c4-58ff-42da-880c-6357abfef048 a odml:Document ;\n",
      "    odml:hasAuthor \"D. N. Adams\" ;\n",
      "    odml:hasDate \"1979-10-12\"^^xsd:date ;\n",
      "    odml:hasSection odml:ca9c8204-2619-4f71-848e-7bf074948661 .\n",
      "\n",
      "odml:ca9c8204-2619-4f71-848e-7bf074948661 a odml:Section ;\n",
      "    odml:hasDefinition \"Information on Arthur Dent\" ;\n",
      "    odml:hasName \"Arthur Philip Dent\" ;\n",
      "    odml:hasProperty <https://g-node.org/projects/odml-rdf#2073adf0-fa85-4a8c-be8a-976f79e2106f> ;\n",
      "    odml:hasType \"crew/person\" .\n",
      "\n",
      "odml:f1677a95-e8a1-40bc-b4f4-8a38d235147f a rdf:Bag ;\n",
      "    rdf:li \"Human\" .\n",
      "\n",
      "\n"
     ]
    }
   ],
   "source": [
    "import tempfile\n",
    "import os\n",
    "\n",
    "# Create temporary file\n",
    "f = tempfile.NamedTemporaryFile(mode='w', suffix=\".ttl\")\n",
    "path = f.name\n",
    "\n",
    "# possible to use 'ttl' instead of 'turtle'\n",
    "RDFWriter(doc).write_file(path, \"ttl\")\n",
    "\n",
    "with open(path) as ff:\n",
    "    data = ff.read()\n",
    "    print(data)\n",
    "\n",
    "f.close()"
   ]
  },
  {
   "cell_type": "markdown",
   "metadata": {},
   "source": [
    "##RDFReader class"
   ]
  },
  {
   "cell_type": "markdown",
   "metadata": {
    "collapsed": true
   },
   "source": [
    "RDFReader class enables RDF to odML conversion.\n",
    "\n",
    "There are 2 ways to obtain objects with converted odML documents:\n",
    "- from **RDF file**  ( `RDFReader().from_file(\"/path_to_input_rdf\", \"rdf_format\")` )\n",
    "- from **RDF string**  ( `RDFReader().from_string(\"rdf file as a string\", \"rdf_format\")` )"
   ]
  },
  {
   "cell_type": "code",
   "execution_count": 4,
   "metadata": {},
   "outputs": [
    {
     "name": "stdout",
     "output_type": "stream",
     "text": [
      "[<Doc None by D. N. Adams (1 sections)>]\n"
     ]
    }
   ],
   "source": [
    "from odml.tools.rdf_converter import RDFReader\n",
    "\n",
    "rdf_file = RDFWriter(doc).get_rdf_str('ttl')\n",
    "odml_doc = RDFReader().from_string(rdf_file, \"ttl\")\n",
    "\n",
    "print(odml_doc)"
   ]
  },
  {
   "cell_type": "code",
   "execution_count": 5,
   "metadata": {},
   "outputs": [
    {
     "name": "stdout",
     "output_type": "stream",
     "text": [
      "[<Doc None by D. N. Adams (1 sections)>]\n"
     ]
    }
   ],
   "source": [
    "# Create temporary file\n",
    "rdf_file = tempfile.NamedTemporaryFile(mode='w', suffix=\".ttl\")\n",
    "rdf_path = rdf_file.name\n",
    "RDFWriter(doc).write_file(rdf_path, \"ttl\")\n",
    "\n",
    "odml_doc = RDFReader().from_file(rdf_path, \"ttl\")\n",
    "\n",
    "print(odml_doc)"
   ]
  },
  {
   "cell_type": "markdown",
   "metadata": {},
   "source": [
    "Another option is to write the output to one or multiple files. <br>\n",
    "`RDFReader().write_file(\"/input_path\", \"rdf_format\", \"/output_path_to_file\")`"
   ]
  },
  {
   "cell_type": "code",
   "execution_count": 6,
   "metadata": {},
   "outputs": [
    {
     "name": "stdout",
     "output_type": "stream",
     "text": [
      "<?xml version=\"1.0\" encoding=\"UTF-8\"?>\n",
      "<?xml-stylesheet  type=\"text/xsl\" href=\"odmlTerms.xsl\"?>\n",
      "<?xml-stylesheet  type=\"text/xsl\" href=\"odml.xsl\"?>\n",
      "<odML version=\"1.1\">\n",
      "  <id>be49c0c4-58ff-42da-880c-6357abfef048</id>\n",
      "  <section>\n",
      "    <id>ca9c8204-2619-4f71-848e-7bf074948661</id>\n",
      "    <type>crew/person</type>\n",
      "    <name>Arthur Philip Dent</name>\n",
      "    <definition>Information on Arthur Dent</definition>\n",
      "    <property>\n",
      "      <id>2073adf0-fa85-4a8c-be8a-976f79e2106f</id>\n",
      "      <value>[Human]</value>\n",
      "      <name>Species</name>\n",
      "      <type>string</type>\n",
      "      <definition>Species to which subject belongs to</definition>\n",
      "    </property>\n",
      "  </section>\n",
      "  <author>D. N. Adams</author>\n",
      "  <date>1979-10-12</date>\n",
      "</odML>\n",
      "\n"
     ]
    }
   ],
   "source": [
    "# If RDF file contains one odML document, specify output path as file\n",
    "odml_file = tempfile.NamedTemporaryFile(mode='w', suffix=\".odml\")\n",
    "odml_path = odml_file.name\n",
    "\n",
    "RDFReader().write_file(rdf_path, \"ttl\", odml_path)\n",
    "\n",
    "with open(odml_path) as ff:\n",
    "    data = ff.read()\n",
    "    print(data)"
   ]
  },
  {
   "cell_type": "markdown",
   "metadata": {
    "collapsed": true
   },
   "source": [
    "If RDF file contains several odML docs, specify output path as a directory.<br>\n",
    "`RDFReader().write_file(\"/input_path\", \"rdf_format\", \"/output_path_to_directory\")`\n",
    "\n",
    "Module creates files in specified directory and writes parsed docs to them.\n",
    "Example of created file: `/<dir_path>/doc_<id>.odml` (`<id>` - id of the document)."
   ]
  },
  {
   "cell_type": "markdown",
   "metadata": {},
   "source": [
    "##SPARQL queries benchmarking"
   ]
  },
  {
   "cell_type": "code",
   "execution_count": 7,
   "metadata": {},
   "outputs": [
    {
     "name": "stdout",
     "output_type": "stream",
     "text": [
      "Total number of triples:  16982\n"
     ]
    }
   ],
   "source": [
    "from rdflib import Graph\n",
    "import os\n",
    "\n",
    "graph = Graph()\n",
    "input_dir = os.path.join(os.getcwd(), 'doc/drosophila_17000_triples/')\n",
    "for file_name in os.listdir(input_dir):\n",
    "    f = os.path.join(input_dir, file_name)\n",
    "    if os.path.isfile(f):\n",
    "        graph.parse(f, format=\"ttl\")\n",
    "print('Total number of triples: ', len(graph))"
   ]
  },
  {
   "cell_type": "markdown",
   "metadata": {},
   "source": [
    "Simple query without nested information"
   ]
  },
  {
   "cell_type": "code",
   "execution_count": 8,
   "metadata": {},
   "outputs": [
    {
     "name": "stdout",
     "output_type": "stream",
     "text": [
      "{'Sec': [('name', 'Recording-2012-02-06-ag'), ('type', 'Recording')]}\n",
      "SELECT * WHERE {\n",
      "?d odml:hasSection ?s .\n",
      "?s rdf:type odml:Section .\n",
      "?s odml:hasName \"Recording-2012-02-06-ag\" .\n",
      "?s odml:hasType \"Recording\" .\n",
      "}\n",
      "\n",
      "Doc: https://g-node.org/projects/odml-rdf#5ea08f25-2f2a-4f16-b329-f529031067c4, Sec https://g-node.org/projects/odml-rdf#bbbba3f8-c6ff-4410-af23-292e7b820066\n",
      "Execution time:  0.000728116000573209\n"
     ]
    }
   ],
   "source": [
    "from odml.tools.query_creator import QueryCreator\n",
    "import time\n",
    "\n",
    "creator = QueryCreator()\n",
    "prepared_query = creator.get_query('sec(name:Recording-2012-02-06-ag,type:Recording)')\n",
    "print(creator.query)\n",
    "\n",
    "t0 = time.perf_counter()\n",
    "for row in graph.query(prepared_query):\n",
    "    print(\"Doc: {0}, Sec {1}\".format(row.d, row.s))\n",
    "t1 = time.perf_counter()\n",
    "\n",
    "print('Execution time: ', t1-t0)"
   ]
  },
  {
   "cell_type": "markdown",
   "metadata": {},
   "source": [
    "Similar query with more prints"
   ]
  },
  {
   "cell_type": "code",
   "execution_count": 9,
   "metadata": {},
   "outputs": [
    {
     "name": "stdout",
     "output_type": "stream",
     "text": [
      "{'Sec': [('type', 'Recording')]}\n",
      "SELECT * WHERE {\n",
      "?d odml:hasSection ?s .\n",
      "?s rdf:type odml:Section .\n",
      "?s odml:hasType \"Recording\" .\n",
      "}\n",
      "\n",
      "Doc: https://g-node.org/projects/odml-rdf#49a5bdb6-6af8-4236-86dc-23c6cbe3bc93, Sec https://g-node.org/projects/odml-rdf#872c8aa1-cb74-413f-b4f8-aab8ff7c0fe4\n",
      "Doc: https://g-node.org/projects/odml-rdf#5ea08f25-2f2a-4f16-b329-f529031067c4, Sec https://g-node.org/projects/odml-rdf#bbbba3f8-c6ff-4410-af23-292e7b820066\n",
      "Doc: https://g-node.org/projects/odml-rdf#c5a20ec1-969a-4f6d-9ccf-820eda0739e8, Sec https://g-node.org/projects/odml-rdf#1c58e876-fa1b-4aa6-b987-3fe65c55208f\n",
      "Doc: https://g-node.org/projects/odml-rdf#883fbce3-a57f-4ee0-8a63-35ea6eaae76b, Sec https://g-node.org/projects/odml-rdf#eec2b554-9b3d-4275-8d20-2c3be0bc64df\n",
      "Doc: https://g-node.org/projects/odml-rdf#3ce53904-10df-46c7-af95-05c6dbb1ea46, Sec https://g-node.org/projects/odml-rdf#3ad10380-ef56-4eae-8551-15d08f2bd35e\n",
      "Doc: https://g-node.org/projects/odml-rdf#47ad68ce-beec-4ac4-aad7-b27ab2050b31, Sec https://g-node.org/projects/odml-rdf#592620e8-ff0e-40f6-ab55-6ad7785d6794\n",
      "Doc: https://g-node.org/projects/odml-rdf#450d3073-f3eb-4e1f-a04a-83bbffccaa5e, Sec https://g-node.org/projects/odml-rdf#17b2e219-a012-4bc1-8a34-996376197b1b\n",
      "Doc: https://g-node.org/projects/odml-rdf#d9809558-e168-4baa-9450-6ff97ba5ee02, Sec https://g-node.org/projects/odml-rdf#0cef5dbb-50b7-44f6-9701-3fa49117c41a\n",
      "Doc: https://g-node.org/projects/odml-rdf#cc66e78a-3742-490a-9fdb-1c66761d7652, Sec https://g-node.org/projects/odml-rdf#5365f7e5-603c-4154-a5ea-33bb1a07a956\n",
      "Doc: https://g-node.org/projects/odml-rdf#4c8b22fb-56cd-4f05-aff1-fb210abb846b, Sec https://g-node.org/projects/odml-rdf#e5247beb-bf71-4401-a123-36128d81f41a\n",
      "Doc: https://g-node.org/projects/odml-rdf#deef4cca-63a7-4319-8191-bffaa91f76b4, Sec https://g-node.org/projects/odml-rdf#6bfe973d-1fd9-4485-ac51-d1b515453792\n",
      "Doc: https://g-node.org/projects/odml-rdf#566ba27d-0fcb-4bd2-a3a5-ef569e9548b9, Sec https://g-node.org/projects/odml-rdf#60883539-7397-438a-92d0-0f06786f51b9\n",
      "Doc: https://g-node.org/projects/odml-rdf#363f23d4-3061-4d24-88e3-9c9ee9b8f94b, Sec https://g-node.org/projects/odml-rdf#8b0e47d6-6e01-4995-8425-a0bf2592869b\n",
      "Doc: https://g-node.org/projects/odml-rdf#24066355-1ee8-4eb5-a715-96bbb6231cd5, Sec https://g-node.org/projects/odml-rdf#bbd44815-5016-49e0-9f4b-5b83778d00de\n",
      "Doc: https://g-node.org/projects/odml-rdf#9a3933c4-c379-40d0-a992-4d4570e05371, Sec https://g-node.org/projects/odml-rdf#a1b283ff-0386-45bd-819f-b36534fe83c4\n",
      "Doc: https://g-node.org/projects/odml-rdf#8a661f5e-2777-40bb-81bd-f39094a7282f, Sec https://g-node.org/projects/odml-rdf#c2edf620-3656-44de-9cf3-ef8e4c970faf\n",
      "Doc: https://g-node.org/projects/odml-rdf#537c6cc8-7dfe-4d53-a111-24b3ce0f3c1a, Sec https://g-node.org/projects/odml-rdf#346773f2-abee-4892-b052-840ddcff35ee\n",
      "Doc: https://g-node.org/projects/odml-rdf#a4cb82a2-09a0-4cb8-8e44-9be9420c921c, Sec https://g-node.org/projects/odml-rdf#c75a76dd-85fc-4a51-8c31-0f79c004f76b\n",
      "Doc: https://g-node.org/projects/odml-rdf#0a4e5aa5-f535-4fcb-8052-a75d8144b0c6, Sec https://g-node.org/projects/odml-rdf#c3a2468f-60b3-4fa3-97f7-28846c3251cc\n",
      "Doc: https://g-node.org/projects/odml-rdf#3660086f-25df-42d4-b4c3-2c85e3d79aa9, Sec https://g-node.org/projects/odml-rdf#e8ecc342-3ec3-477b-8701-f9ec213863fa\n"
     ]
    }
   ],
   "source": [
    "creator = QueryCreator()\n",
    "prepared_query = creator.get_query('sec(type:Recording)')\n",
    "print(creator.query)\n",
    "\n",
    "t0 = time.perf_counter()\n",
    "for row in graph.query(prepared_query):\n",
    "    print(\"Doc: {0}, Sec {1}\".format(row.d, row.s))\n",
    "t1 = time.perf_counter()"
   ]
  },
  {
   "cell_type": "code",
   "execution_count": 10,
   "metadata": {
    "scrolled": true
   },
   "outputs": [
    {
     "name": "stdout",
     "output_type": "stream",
     "text": [
      "Execution time:  0.006796777000090515\n"
     ]
    }
   ],
   "source": [
    "print('Execution time: ', t1-t0)"
   ]
  },
  {
   "cell_type": "markdown",
   "metadata": {},
   "source": [
    "Query with a more complex structure"
   ]
  },
  {
   "cell_type": "code",
   "execution_count": 11,
   "metadata": {},
   "outputs": [
    {
     "name": "stdout",
     "output_type": "stream",
     "text": [
      "Doc: https://g-node.org/projects/odml-rdf#8a661f5e-2777-40bb-81bd-f39094a7282f, Sec: https://g-node.org/projects/odml-rdf#c2edf620-3656-44de-9cf3-ef8e4c970faf, \n",
      "Prop: https://g-node.org/projects/odml-rdf#8d9ddac0-a414-4388-8fbb-a18f004f0b56, Val:11.22\n",
      "Doc: https://g-node.org/projects/odml-rdf#deef4cca-63a7-4319-8191-bffaa91f76b4, Sec: https://g-node.org/projects/odml-rdf#6bfe973d-1fd9-4485-ac51-d1b515453792, \n",
      "Prop: https://g-node.org/projects/odml-rdf#5319d476-6027-41ba-8e58-0da9d7a8d0e8, Val:6.73\n",
      "Doc: https://g-node.org/projects/odml-rdf#3660086f-25df-42d4-b4c3-2c85e3d79aa9, Sec: https://g-node.org/projects/odml-rdf#e8ecc342-3ec3-477b-8701-f9ec213863fa, \n",
      "Prop: https://g-node.org/projects/odml-rdf#c453f9d4-9319-4037-b727-8bdb0d8f4e61, Val:11.87\n",
      "Doc: https://g-node.org/projects/odml-rdf#4c8b22fb-56cd-4f05-aff1-fb210abb846b, Sec: https://g-node.org/projects/odml-rdf#e5247beb-bf71-4401-a123-36128d81f41a, \n",
      "Prop: https://g-node.org/projects/odml-rdf#86183eae-169c-46d1-aaf3-b0088d622033, Val:0.7\n",
      "Doc: https://g-node.org/projects/odml-rdf#47ad68ce-beec-4ac4-aad7-b27ab2050b31, Sec: https://g-node.org/projects/odml-rdf#592620e8-ff0e-40f6-ab55-6ad7785d6794, \n",
      "Prop: https://g-node.org/projects/odml-rdf#db5f397c-981d-4925-88f2-fdbc8377725b, Val:0.35\n",
      "Doc: https://g-node.org/projects/odml-rdf#9a3933c4-c379-40d0-a992-4d4570e05371, Sec: https://g-node.org/projects/odml-rdf#a1b283ff-0386-45bd-819f-b36534fe83c4, \n",
      "Prop: https://g-node.org/projects/odml-rdf#c55af360-7d14-4154-9723-1b86489b1520, Val:5.43\n",
      "Doc: https://g-node.org/projects/odml-rdf#883fbce3-a57f-4ee0-8a63-35ea6eaae76b, Sec: https://g-node.org/projects/odml-rdf#eec2b554-9b3d-4275-8d20-2c3be0bc64df, \n",
      "Prop: https://g-node.org/projects/odml-rdf#089903a4-687f-4e8b-ae60-6e6ad0f57bb6, Val:0.48\n",
      "Doc: https://g-node.org/projects/odml-rdf#5ea08f25-2f2a-4f16-b329-f529031067c4, Sec: https://g-node.org/projects/odml-rdf#bbbba3f8-c6ff-4410-af23-292e7b820066, \n",
      "Prop: https://g-node.org/projects/odml-rdf#79f197a0-d439-4cf1-be53-66c248a9a8c1, Val:5.92\n",
      "Doc: https://g-node.org/projects/odml-rdf#49a5bdb6-6af8-4236-86dc-23c6cbe3bc93, Sec: https://g-node.org/projects/odml-rdf#872c8aa1-cb74-413f-b4f8-aab8ff7c0fe4, \n",
      "Prop: https://g-node.org/projects/odml-rdf#56467c85-c426-4409-b794-e90e133d1c60, Val:8.02\n",
      "Doc: https://g-node.org/projects/odml-rdf#566ba27d-0fcb-4bd2-a3a5-ef569e9548b9, Sec: https://g-node.org/projects/odml-rdf#60883539-7397-438a-92d0-0f06786f51b9, \n",
      "Prop: https://g-node.org/projects/odml-rdf#b056c1c9-8ecc-4594-9e87-560877b51cef, Val:4.72\n",
      "Doc: https://g-node.org/projects/odml-rdf#24066355-1ee8-4eb5-a715-96bbb6231cd5, Sec: https://g-node.org/projects/odml-rdf#bbd44815-5016-49e0-9f4b-5b83778d00de, \n",
      "Prop: https://g-node.org/projects/odml-rdf#0ed215a2-5d20-48eb-b744-bf3b731459fc, Val:0.33\n",
      "Doc: https://g-node.org/projects/odml-rdf#d9809558-e168-4baa-9450-6ff97ba5ee02, Sec: https://g-node.org/projects/odml-rdf#0cef5dbb-50b7-44f6-9701-3fa49117c41a, \n",
      "Prop: https://g-node.org/projects/odml-rdf#b90f28f2-77f4-44f9-b70e-5002444bfc1b, Val:0.0\n",
      "Doc: https://g-node.org/projects/odml-rdf#450d3073-f3eb-4e1f-a04a-83bbffccaa5e, Sec: https://g-node.org/projects/odml-rdf#17b2e219-a012-4bc1-8a34-996376197b1b, \n",
      "Prop: https://g-node.org/projects/odml-rdf#7f523684-04f9-4960-949b-09a925ce1e64, Val:12.52\n",
      "Doc: https://g-node.org/projects/odml-rdf#3ce53904-10df-46c7-af95-05c6dbb1ea46, Sec: https://g-node.org/projects/odml-rdf#3ad10380-ef56-4eae-8551-15d08f2bd35e, \n",
      "Prop: https://g-node.org/projects/odml-rdf#31b7122b-9765-4e8b-aa49-62cdf55b4524, Val:0.0\n",
      "Doc: https://g-node.org/projects/odml-rdf#537c6cc8-7dfe-4d53-a111-24b3ce0f3c1a, Sec: https://g-node.org/projects/odml-rdf#346773f2-abee-4892-b052-840ddcff35ee, \n",
      "Prop: https://g-node.org/projects/odml-rdf#1636af03-8e97-4ef2-9d7d-6c7db23dcd02, Val:11.88\n",
      "Doc: https://g-node.org/projects/odml-rdf#cc66e78a-3742-490a-9fdb-1c66761d7652, Sec: https://g-node.org/projects/odml-rdf#5365f7e5-603c-4154-a5ea-33bb1a07a956, \n",
      "Prop: https://g-node.org/projects/odml-rdf#41316903-80f1-45a3-9b06-400a02903531, Val:11.25\n",
      "Doc: https://g-node.org/projects/odml-rdf#c5a20ec1-969a-4f6d-9ccf-820eda0739e8, Sec: https://g-node.org/projects/odml-rdf#1c58e876-fa1b-4aa6-b987-3fe65c55208f, \n",
      "Prop: https://g-node.org/projects/odml-rdf#f386e6a5-f022-4afd-bf3c-008358978ceb, Val:3.72\n",
      "Doc: https://g-node.org/projects/odml-rdf#0a4e5aa5-f535-4fcb-8052-a75d8144b0c6, Sec: https://g-node.org/projects/odml-rdf#c3a2468f-60b3-4fa3-97f7-28846c3251cc, \n",
      "Prop: https://g-node.org/projects/odml-rdf#18a1c320-647b-4931-aea0-2e5896ae5056, Val:1.15\n",
      "Doc: https://g-node.org/projects/odml-rdf#363f23d4-3061-4d24-88e3-9c9ee9b8f94b, Sec: https://g-node.org/projects/odml-rdf#8b0e47d6-6e01-4995-8425-a0bf2592869b, \n",
      "Prop: https://g-node.org/projects/odml-rdf#3cf56f82-5677-40b4-b141-dfafff55c8aa, Val:10.38\n",
      "Doc: https://g-node.org/projects/odml-rdf#a4cb82a2-09a0-4cb8-8e44-9be9420c921c, Sec: https://g-node.org/projects/odml-rdf#c75a76dd-85fc-4a51-8c31-0f79c004f76b, \n",
      "Prop: https://g-node.org/projects/odml-rdf#9d79f747-db4f-4d53-bfb2-f4793eec6898, Val:0.8\n"
     ]
    }
   ],
   "source": [
    "from rdflib import Graph, Namespace, RDF\n",
    "from rdflib.plugins.sparql import prepareQuery\n",
    "\n",
    "q = prepareQuery(\"\"\"SELECT ?d ?s ?p ?value WHERE {\n",
    "    ?d odml:hasSection ?s .\n",
    "    ?s rdf:type odml:Section .\n",
    "    ?s odml:hasType \"Recording\" .\n",
    "    ?s odml:hasProperty ?p .\n",
    "    ?p rdf:type odml:Property .\n",
    "    ?p odml:hasName \"Recording duration\" .\n",
    "    ?p odml:hasValue ?v .\n",
    "    ?v rdf:type rdf:Bag .\n",
    "    ?v rdf:li ?value .}\"\"\", initNs={\"odml\": Namespace(\"https://g-node.org/projects/odml-rdf#\"),\n",
    "                          \"rdf\": RDF})\n",
    "\n",
    "t0 = time.perf_counter()\n",
    "for row in graph.query(q):\n",
    "    print(\"Doc: {0}, Sec: {1}, \\n\"\n",
    "          \"Prop: {2}, Val:{3}\".format(row.d, row.s, row.p, row.value))\n",
    "t1 = time.perf_counter()"
   ]
  },
  {
   "cell_type": "code",
   "execution_count": 12,
   "metadata": {},
   "outputs": [
    {
     "name": "stdout",
     "output_type": "stream",
     "text": [
      "Execution time:  72.3447958529996\n"
     ]
    }
   ],
   "source": [
    "print('Execution time: ', t1-t0)"
   ]
  },
  {
   "cell_type": "markdown",
   "metadata": {},
   "source": [
    "Some above query statistics.\n",
    "\n",
    "| Number of triples | Time, seconds    |\n",
    "| ------------------|:-----------------|\n",
    "| 17000             | 71               |\n",
    "| 30000             | 416              |\n",
    "| 50000             | 1606             |\n",
    "| 100000            | more than 2500   |"
   ]
  },
  {
   "cell_type": "markdown",
   "metadata": {},
   "source": [
    "Quering subsections"
   ]
  },
  {
   "cell_type": "code",
   "execution_count": 14,
   "metadata": {},
   "outputs": [
    {
     "name": "stdout",
     "output_type": "stream",
     "text": [
      "Doc: https://g-node.org/projects/odml-rdf#3660086f-25df-42d4-b4c3-2c85e3d79aa9, Sec: https://g-node.org/projects/odml-rdf#0b51eb43-006e-4e7f-bb31-c1961eaaba90, \n",
      "Prop: https://g-node.org/projects/odml-rdf#a6e29ae5-8bf3-4c55-9954-99647518c822, Val:Patch2LED\n",
      "Doc: https://g-node.org/projects/odml-rdf#9a3933c4-c379-40d0-a992-4d4570e05371, Sec: https://g-node.org/projects/odml-rdf#bdb6223e-5317-48ab-9260-09374048175a, \n",
      "Prop: https://g-node.org/projects/odml-rdf#d47b4e16-de17-4682-9021-37b52f97d0b8, Val:Patch2LED\n",
      "Doc: https://g-node.org/projects/odml-rdf#363f23d4-3061-4d24-88e3-9c9ee9b8f94b, Sec: https://g-node.org/projects/odml-rdf#0ba5aaa5-a883-4877-a0fd-00b37b925aa4, \n",
      "Prop: https://g-node.org/projects/odml-rdf#7ee45193-d70f-4cab-9376-1f7f78cc0cd8, Val:Patch2LED\n",
      "Doc: https://g-node.org/projects/odml-rdf#450d3073-f3eb-4e1f-a04a-83bbffccaa5e, Sec: https://g-node.org/projects/odml-rdf#5484b788-0c70-4c6a-9ddb-5199ebe8afa7, \n",
      "Prop: https://g-node.org/projects/odml-rdf#d6d91abb-b84a-4af1-8022-97ec2dda903f, Val:simpleErg\n",
      "Doc: https://g-node.org/projects/odml-rdf#deef4cca-63a7-4319-8191-bffaa91f76b4, Sec: https://g-node.org/projects/odml-rdf#65564ebd-53d1-4b52-835a-2d2493d274e9, \n",
      "Prop: https://g-node.org/projects/odml-rdf#36d06379-d1c2-4340-b391-d43791143333, Val:Patch2LED\n",
      "Doc: https://g-node.org/projects/odml-rdf#537c6cc8-7dfe-4d53-a111-24b3ce0f3c1a, Sec: https://g-node.org/projects/odml-rdf#0c85defa-1a49-4624-906e-a6a1d6b0b85b, \n",
      "Prop: https://g-node.org/projects/odml-rdf#718cef20-58b8-45c5-a218-1d41a46a6937, Val:Patch2LED\n",
      "Doc: https://g-node.org/projects/odml-rdf#c5a20ec1-969a-4f6d-9ccf-820eda0739e8, Sec: https://g-node.org/projects/odml-rdf#ef94af61-2891-4998-89d7-491fa09bea3a, \n",
      "Prop: https://g-node.org/projects/odml-rdf#27a40214-b217-47d3-92f7-f3cab59f8dc5, Val:Patch2LED\n",
      "Doc: https://g-node.org/projects/odml-rdf#49a5bdb6-6af8-4236-86dc-23c6cbe3bc93, Sec: https://g-node.org/projects/odml-rdf#ed3a9fbe-2f38-472c-a2e4-53bfb48635be, \n",
      "Prop: https://g-node.org/projects/odml-rdf#69a03688-d7f2-4310-9c67-d28e928e0f1f, Val:Patch2LED\n",
      "Doc: https://g-node.org/projects/odml-rdf#0a4e5aa5-f535-4fcb-8052-a75d8144b0c6, Sec: https://g-node.org/projects/odml-rdf#46866022-369e-4b6b-8224-fa68d5898e0f, \n",
      "Prop: https://g-node.org/projects/odml-rdf#44047fc1-8572-4bbc-b70a-32976cd7989a, Val:simpleErg\n",
      "Doc: https://g-node.org/projects/odml-rdf#cc66e78a-3742-490a-9fdb-1c66761d7652, Sec: https://g-node.org/projects/odml-rdf#59214560-fd0d-410c-bc1c-1f1cb75c93aa, \n",
      "Prop: https://g-node.org/projects/odml-rdf#90a4a10e-39f9-4fb9-810f-51e630dcc41b, Val:Patch2LED\n",
      "Doc: https://g-node.org/projects/odml-rdf#537c6cc8-7dfe-4d53-a111-24b3ce0f3c1a, Sec: https://g-node.org/projects/odml-rdf#ead5c961-556a-459d-b99a-c5f5748ac07e, \n",
      "Prop: https://g-node.org/projects/odml-rdf#776cd9f0-86e7-491a-a7f9-c0e4b70c7901, Val:Patch2LED\n",
      "Doc: https://g-node.org/projects/odml-rdf#566ba27d-0fcb-4bd2-a3a5-ef569e9548b9, Sec: https://g-node.org/projects/odml-rdf#82ad9f30-5235-45fd-951a-86e2ff3c29a0, \n",
      "Prop: https://g-node.org/projects/odml-rdf#e923af49-52cf-4a29-bc8e-e4291524c37a, Val:simpleErg\n",
      "Doc: https://g-node.org/projects/odml-rdf#49a5bdb6-6af8-4236-86dc-23c6cbe3bc93, Sec: https://g-node.org/projects/odml-rdf#36e4c528-f9a6-44f5-9af8-5d984c1267a9, \n",
      "Prop: https://g-node.org/projects/odml-rdf#ed9d94d9-1952-4454-88cb-30746130c78f, Val:Patch2LED\n",
      "Doc: https://g-node.org/projects/odml-rdf#566ba27d-0fcb-4bd2-a3a5-ef569e9548b9, Sec: https://g-node.org/projects/odml-rdf#bfc361cc-9d2a-4a58-804e-0f0bbe1bedba, \n",
      "Prop: https://g-node.org/projects/odml-rdf#dfb5403f-5344-48f2-9f7a-ad3b840c2b95, Val:simpleErg\n",
      "Doc: https://g-node.org/projects/odml-rdf#ba086200-db00-4864-bc41-55d202fda7eb, Sec: https://g-node.org/projects/odml-rdf#17978a97-2887-4fed-87a1-3e578abd0246, \n",
      "Prop: https://g-node.org/projects/odml-rdf#4c5d3c3c-d5b4-4382-ab89-361e55d10b8e, Val:Patch2LED\n",
      "Doc: https://g-node.org/projects/odml-rdf#9a3933c4-c379-40d0-a992-4d4570e05371, Sec: https://g-node.org/projects/odml-rdf#081836b8-1707-49ea-a3f5-6e93a5e75706, \n",
      "Prop: https://g-node.org/projects/odml-rdf#b85c1f4c-64b0-41dd-8ebb-562583fea861, Val:Patch2LED\n",
      "Doc: https://g-node.org/projects/odml-rdf#9a3933c4-c379-40d0-a992-4d4570e05371, Sec: https://g-node.org/projects/odml-rdf#f462b07e-e24f-4b38-b264-a5c93ffd4375, \n",
      "Prop: https://g-node.org/projects/odml-rdf#ae10616f-943e-4c8e-b6db-4e0e4e62d4f5, Val:Patch2LED\n",
      "Doc: https://g-node.org/projects/odml-rdf#cc66e78a-3742-490a-9fdb-1c66761d7652, Sec: https://g-node.org/projects/odml-rdf#7921c0ab-6239-42dc-aaf8-60c7ae44a581, \n",
      "Prop: https://g-node.org/projects/odml-rdf#acb03e1a-4501-4f16-ae9a-181495bc1744, Val:Patch2LED\n",
      "Doc: https://g-node.org/projects/odml-rdf#5ea08f25-2f2a-4f16-b329-f529031067c4, Sec: https://g-node.org/projects/odml-rdf#e36808e4-4301-4089-9d19-62c19eabfbf8, \n",
      "Prop: https://g-node.org/projects/odml-rdf#93aca2b2-cffe-4119-8065-bfed7e1414e2, Val:Patch2LED\n",
      "Doc: https://g-node.org/projects/odml-rdf#537c6cc8-7dfe-4d53-a111-24b3ce0f3c1a, Sec: https://g-node.org/projects/odml-rdf#cdce393e-1b62-49b9-bf80-a003883a14fa, \n",
      "Prop: https://g-node.org/projects/odml-rdf#9064b217-dc39-43bc-80f0-d5e24371da8b, Val:Patch2LED\n",
      "Doc: https://g-node.org/projects/odml-rdf#8a661f5e-2777-40bb-81bd-f39094a7282f, Sec: https://g-node.org/projects/odml-rdf#2c87f51c-d32e-42ae-890d-4f43e9bec2f5, \n",
      "Prop: https://g-node.org/projects/odml-rdf#70c9c0c2-bf62-4117-974b-a80e09f98556, Val:Patch2LED\n",
      "Doc: https://g-node.org/projects/odml-rdf#566ba27d-0fcb-4bd2-a3a5-ef569e9548b9, Sec: https://g-node.org/projects/odml-rdf#10641c3c-1299-4dbb-952a-e7828ba6897b, \n",
      "Prop: https://g-node.org/projects/odml-rdf#040b3b43-dde3-449a-ade0-6f2546e0629d, Val:simpleErg\n",
      "Doc: https://g-node.org/projects/odml-rdf#0a4e5aa5-f535-4fcb-8052-a75d8144b0c6, Sec: https://g-node.org/projects/odml-rdf#6e537566-e061-41b3-91e5-69a9aa1884d9, \n",
      "Prop: https://g-node.org/projects/odml-rdf#88749282-7612-48a0-8c36-17f10646f2e3, Val:simpleErg\n",
      "Doc: https://g-node.org/projects/odml-rdf#8a661f5e-2777-40bb-81bd-f39094a7282f, Sec: https://g-node.org/projects/odml-rdf#04795bd8-585a-4fcd-865d-f37ac6123f98, \n",
      "Prop: https://g-node.org/projects/odml-rdf#80fd8f3d-c885-4505-88a1-dea267fb8b82, Val:Patch2LED\n",
      "Doc: https://g-node.org/projects/odml-rdf#537c6cc8-7dfe-4d53-a111-24b3ce0f3c1a, Sec: https://g-node.org/projects/odml-rdf#beef5e38-4738-4ce1-a57c-a766a5d8f27c, \n",
      "Prop: https://g-node.org/projects/odml-rdf#37b5bca4-cd60-4089-9cd8-bf17f03f414e, Val:Patch2LED\n",
      "Doc: https://g-node.org/projects/odml-rdf#363f23d4-3061-4d24-88e3-9c9ee9b8f94b, Sec: https://g-node.org/projects/odml-rdf#6d51da91-f8ac-458f-80b1-e9a26ef12981, \n",
      "Prop: https://g-node.org/projects/odml-rdf#0c19f94d-ab6f-4115-9d9d-f71c1b690cdd, Val:Patch2LED\n",
      "Doc: https://g-node.org/projects/odml-rdf#566ba27d-0fcb-4bd2-a3a5-ef569e9548b9, Sec: https://g-node.org/projects/odml-rdf#5c15866d-c486-447c-8ee5-d4362cca7dc8, \n",
      "Prop: https://g-node.org/projects/odml-rdf#d4d65c36-c32e-4b2c-921d-e4846a76aac6, Val:simpleErg\n",
      "Doc: https://g-node.org/projects/odml-rdf#5ea08f25-2f2a-4f16-b329-f529031067c4, Sec: https://g-node.org/projects/odml-rdf#62feafa8-664b-42ca-913a-8cda51e94ced, \n",
      "Prop: https://g-node.org/projects/odml-rdf#1735f8c6-75ed-4d10-a604-23fb699c6c4c, Val:Patch2LED\n",
      "Doc: https://g-node.org/projects/odml-rdf#8a661f5e-2777-40bb-81bd-f39094a7282f, Sec: https://g-node.org/projects/odml-rdf#dc12a2ca-5ce5-40e7-b91f-c1d56902f146, \n",
      "Prop: https://g-node.org/projects/odml-rdf#92d29136-5ea4-40a7-a67b-ca618af1a744, Val:Patch2LED\n",
      "Doc: https://g-node.org/projects/odml-rdf#5ea08f25-2f2a-4f16-b329-f529031067c4, Sec: https://g-node.org/projects/odml-rdf#7d8c101a-c53c-4467-bf8c-7e23dc884266, \n",
      "Prop: https://g-node.org/projects/odml-rdf#55d01001-4cca-400d-8ea2-36bd8d747de2, Val:Patch2LED\n",
      "Doc: https://g-node.org/projects/odml-rdf#e3d03f0a-85de-4f56-9c97-637d7a86d96f, Sec: https://g-node.org/projects/odml-rdf#f336d324-21cf-4393-be51-162ab974c4d6, \n",
      "Prop: https://g-node.org/projects/odml-rdf#5c055427-eda6-40ae-ac7c-2e15f9df64ce, Val:Patch2LED\n",
      "Doc: https://g-node.org/projects/odml-rdf#450d3073-f3eb-4e1f-a04a-83bbffccaa5e, Sec: https://g-node.org/projects/odml-rdf#97bcb8dd-244f-407e-af46-95d2b566b3a2, \n",
      "Prop: https://g-node.org/projects/odml-rdf#aa0a5d52-a1a9-46ed-a172-ff2a22d8d36f, Val:Patch2LED\n",
      "Doc: https://g-node.org/projects/odml-rdf#450d3073-f3eb-4e1f-a04a-83bbffccaa5e, Sec: https://g-node.org/projects/odml-rdf#6c338007-93c8-46b9-b9fe-e3aa171cf825, \n",
      "Prop: https://g-node.org/projects/odml-rdf#bfbe00fd-ceda-4f5a-adc5-87760a9f7e19, Val:Patch2LED\n"
     ]
    },
    {
     "name": "stdout",
     "output_type": "stream",
     "text": [
      "Doc: https://g-node.org/projects/odml-rdf#4c8b22fb-56cd-4f05-aff1-fb210abb846b, Sec: https://g-node.org/projects/odml-rdf#689dd11a-d444-419b-97c1-7c32bbd382ba, \n",
      "Prop: https://g-node.org/projects/odml-rdf#6e578e49-068d-4810-bb01-72370ef4c427, Val:simpleErg\n",
      "Doc: https://g-node.org/projects/odml-rdf#9a3933c4-c379-40d0-a992-4d4570e05371, Sec: https://g-node.org/projects/odml-rdf#6d65da0a-16ac-4f4a-95c2-1d04518e007e, \n",
      "Prop: https://g-node.org/projects/odml-rdf#2fb7b4a6-6d78-47c3-b5fe-9ac24086d696, Val:Patch2LED\n",
      "Doc: https://g-node.org/projects/odml-rdf#49a5bdb6-6af8-4236-86dc-23c6cbe3bc93, Sec: https://g-node.org/projects/odml-rdf#02b94e34-d27c-4535-871f-ecdc057499bb, \n",
      "Prop: https://g-node.org/projects/odml-rdf#80521410-c1a1-4dc6-a7d3-4266525d8009, Val:Patch2LED\n",
      "Doc: https://g-node.org/projects/odml-rdf#363f23d4-3061-4d24-88e3-9c9ee9b8f94b, Sec: https://g-node.org/projects/odml-rdf#7a889098-c765-43e0-addb-cd1837699d27, \n",
      "Prop: https://g-node.org/projects/odml-rdf#a7accac0-d230-4dce-ad23-6d4c1403807d, Val:Patch2LED\n",
      "Doc: https://g-node.org/projects/odml-rdf#cc66e78a-3742-490a-9fdb-1c66761d7652, Sec: https://g-node.org/projects/odml-rdf#9fa3300e-8ec2-4fae-89ea-cb00776808b4, \n",
      "Prop: https://g-node.org/projects/odml-rdf#7f2e8e88-5b3c-41e4-9163-d262c367ce08, Val:Patch2LED\n",
      "Doc: https://g-node.org/projects/odml-rdf#883fbce3-a57f-4ee0-8a63-35ea6eaae76b, Sec: https://g-node.org/projects/odml-rdf#e84a10be-4a9c-45d3-b017-d0618b753ede, \n",
      "Prop: https://g-node.org/projects/odml-rdf#8b243112-c89e-415f-b2f1-46217f096a65, Val:simpleErg\n",
      "Doc: https://g-node.org/projects/odml-rdf#450d3073-f3eb-4e1f-a04a-83bbffccaa5e, Sec: https://g-node.org/projects/odml-rdf#88e6d56e-0dab-424a-9859-741e25997f52, \n",
      "Prop: https://g-node.org/projects/odml-rdf#0e5d7cff-5c18-4907-ae21-e8425e73efdd, Val:simpleErg\n",
      "Doc: https://g-node.org/projects/odml-rdf#24066355-1ee8-4eb5-a715-96bbb6231cd5, Sec: https://g-node.org/projects/odml-rdf#eafb65db-af11-42f6-93fd-1b4e43732281, \n",
      "Prop: https://g-node.org/projects/odml-rdf#756395cf-7874-45d3-97ca-9c009c3bef6a, Val:simpleErg\n",
      "Doc: https://g-node.org/projects/odml-rdf#5ea08f25-2f2a-4f16-b329-f529031067c4, Sec: https://g-node.org/projects/odml-rdf#e13ccf6d-9d76-4680-904e-a0a8d9372997, \n",
      "Prop: https://g-node.org/projects/odml-rdf#eb0d266f-8809-47ab-9f80-33eafa8381f4, Val:Patch2LED\n",
      "Doc: https://g-node.org/projects/odml-rdf#a4cb82a2-09a0-4cb8-8e44-9be9420c921c, Sec: https://g-node.org/projects/odml-rdf#fdb1d3e2-8e79-43a9-a824-516479d3259f, \n",
      "Prop: https://g-node.org/projects/odml-rdf#33b1eeb5-2dc5-4cb7-9285-8d2c228fb221, Val:Patch2LED\n",
      "Doc: https://g-node.org/projects/odml-rdf#deef4cca-63a7-4319-8191-bffaa91f76b4, Sec: https://g-node.org/projects/odml-rdf#83e7a976-810a-4963-93f6-46cfe3f0c8a1, \n",
      "Prop: https://g-node.org/projects/odml-rdf#6c4a10c7-da61-407a-aca5-f984f44a204e, Val:Patch2LED\n",
      "Doc: https://g-node.org/projects/odml-rdf#450d3073-f3eb-4e1f-a04a-83bbffccaa5e, Sec: https://g-node.org/projects/odml-rdf#f2088472-bcc7-4b98-9156-d30949d9ca0f, \n",
      "Prop: https://g-node.org/projects/odml-rdf#da66ea0d-51c0-47af-a359-576d01e40093, Val:Patch2LED\n",
      "Doc: https://g-node.org/projects/odml-rdf#deef4cca-63a7-4319-8191-bffaa91f76b4, Sec: https://g-node.org/projects/odml-rdf#13928049-b0fd-4f72-82fc-8b44ee5849ae, \n",
      "Prop: https://g-node.org/projects/odml-rdf#444f2efc-ec41-451b-8849-1bca4cfec411, Val:Patch2LED\n",
      "Doc: https://g-node.org/projects/odml-rdf#47ad68ce-beec-4ac4-aad7-b27ab2050b31, Sec: https://g-node.org/projects/odml-rdf#26fcb4d1-a22d-4ab5-8c84-4ee8686ebb84, \n",
      "Prop: https://g-node.org/projects/odml-rdf#83b796d3-96b7-4009-8b04-ea38dc0a643c, Val:simpleErg\n",
      "Doc: https://g-node.org/projects/odml-rdf#3660086f-25df-42d4-b4c3-2c85e3d79aa9, Sec: https://g-node.org/projects/odml-rdf#36c3efa4-c737-46ef-9863-bb181ba8db71, \n",
      "Prop: https://g-node.org/projects/odml-rdf#e7d706a1-a506-4ca0-b6ea-e44d68261466, Val:Patch2LED\n",
      "Doc: https://g-node.org/projects/odml-rdf#363f23d4-3061-4d24-88e3-9c9ee9b8f94b, Sec: https://g-node.org/projects/odml-rdf#159d0803-0ed4-4db1-9e87-7e8fc9d16096, \n",
      "Prop: https://g-node.org/projects/odml-rdf#4cccaf2c-f2e9-428d-82ce-fe1af286f5e5, Val:Patch2LED\n",
      "Doc: https://g-node.org/projects/odml-rdf#3660086f-25df-42d4-b4c3-2c85e3d79aa9, Sec: https://g-node.org/projects/odml-rdf#afcba4db-fae1-4b2a-b9fc-30d32fe2fc51, \n",
      "Prop: https://g-node.org/projects/odml-rdf#6b3e44c4-4773-43f5-ba8a-d7647f10dc0c, Val:Patch2LED\n",
      "Doc: https://g-node.org/projects/odml-rdf#e3d03f0a-85de-4f56-9c97-637d7a86d96f, Sec: https://g-node.org/projects/odml-rdf#d00c86b0-87a6-4806-b0bc-ecc8079f5691, \n",
      "Prop: https://g-node.org/projects/odml-rdf#20f0edb0-0449-4fd4-b22a-6ea1ad281b69, Val:Patch2LED\n",
      "Doc: https://g-node.org/projects/odml-rdf#3660086f-25df-42d4-b4c3-2c85e3d79aa9, Sec: https://g-node.org/projects/odml-rdf#f3de3794-6d1f-4a25-8643-9ce7440e4572, \n",
      "Prop: https://g-node.org/projects/odml-rdf#3b9f4cb3-506b-4027-92df-3d1cca2f98c0, Val:Patch2LED\n",
      "Doc: https://g-node.org/projects/odml-rdf#8a661f5e-2777-40bb-81bd-f39094a7282f, Sec: https://g-node.org/projects/odml-rdf#07fc1a0f-7692-480b-a593-9c6ba01d2aa6, \n",
      "Prop: https://g-node.org/projects/odml-rdf#26de9ce7-4758-4e83-9846-e886f7f2e9b0, Val:Patch2LED\n",
      "Doc: https://g-node.org/projects/odml-rdf#450d3073-f3eb-4e1f-a04a-83bbffccaa5e, Sec: https://g-node.org/projects/odml-rdf#305c0111-c059-4182-b8de-fd8030104335, \n",
      "Prop: https://g-node.org/projects/odml-rdf#7fce50cf-e90f-42a5-ad93-be5b95577bd2, Val:Patch2LED\n",
      "Doc: https://g-node.org/projects/odml-rdf#cc66e78a-3742-490a-9fdb-1c66761d7652, Sec: https://g-node.org/projects/odml-rdf#f1867c51-34e3-487c-b402-e0466695d014, \n",
      "Prop: https://g-node.org/projects/odml-rdf#dd2a29a7-711a-4a54-ad74-51a47c4bb08c, Val:Patch2LED\n",
      "Doc: https://g-node.org/projects/odml-rdf#49a5bdb6-6af8-4236-86dc-23c6cbe3bc93, Sec: https://g-node.org/projects/odml-rdf#85edea67-9d41-49e6-98c2-491718f2b87b, \n",
      "Prop: https://g-node.org/projects/odml-rdf#1608eba9-68b1-4d06-866b-d3c0ef9e6bba, Val:Patch2LED\n",
      "Doc: https://g-node.org/projects/odml-rdf#deef4cca-63a7-4319-8191-bffaa91f76b4, Sec: https://g-node.org/projects/odml-rdf#6fa3e36f-456f-4e18-b566-c0ba1bbfff3c, \n",
      "Prop: https://g-node.org/projects/odml-rdf#b9bd716c-5c27-4d6e-b9d0-23959cd675db, Val:Patch2LED\n",
      "Doc: https://g-node.org/projects/odml-rdf#ba086200-db00-4864-bc41-55d202fda7eb, Sec: https://g-node.org/projects/odml-rdf#852b6ae0-05dd-4a29-a280-ffb5f1175d86, \n",
      "Prop: https://g-node.org/projects/odml-rdf#63687984-3e07-43c9-a73b-3b177290c4ea, Val:Patch2LED\n"
     ]
    }
   ],
   "source": [
    "q = prepareQuery(\"\"\"SELECT ?d ?s ?p ?value WHERE {\n",
    "    ?d odml:hasSection ?s .\n",
    "    ?s rdf:type odml:Dataset .\n",
    "    ?s odml:hasProperty ?p .\n",
    "    ?p rdf:type odml:Property .\n",
    "    ?p odml:hasName \"repro\" .\n",
    "    ?p odml:hasValue ?v .\n",
    "    ?v rdf:type rdf:Bag .\n",
    "    ?v rdf:li ?value .}\"\"\", initNs={\"odml\": Namespace(\"https://g-node.org/projects/odml-rdf#\"),\n",
    "                          \"rdf\": RDF})\n",
    "\n",
    "t0 = time.perf_counter()\n",
    "for row in graph.query(q):\n",
    "    print(\"Doc: {0}, Sec: {1}, \\n\"\n",
    "          \"Prop: {2}, Val:{3}\".format(row.d, row.s, row.p, row.value))\n",
    "t1 = time.perf_counter()"
   ]
  },
  {
   "cell_type": "code",
   "execution_count": 15,
   "metadata": {
    "scrolled": false
   },
   "outputs": [
    {
     "name": "stdout",
     "output_type": "stream",
     "text": [
      "Execution time:  566.1721121579994\n"
     ]
    }
   ],
   "source": [
    "print('Execution time: ', t1-t0)"
   ]
  },
  {
   "cell_type": "markdown",
   "metadata": {},
   "source": [
    "Some above query statistics for subclass queries.\n",
    "\n",
    "| Number of triples | Time, seconds    |\n",
    "| ------------------|:-----------------|\n",
    "| 6200              | 27               |\n",
    "| 11000             | 160              |\n",
    "| 17000             | 595              |"
   ]
  },
  {
   "cell_type": "markdown",
   "metadata": {},
   "source": [
    "##FuzzyFinder class"
   ]
  },
  {
   "cell_type": "markdown",
   "metadata": {},
   "source": [
    "**FuzzyFinder** tool for querying graph through *fuzzy* queries. If the user do not know exact attributes and structure of the odML data model, the finder executes multiple queries to better match the parameters and returns sets of triples. <br>\n",
    "Example:"
   ]
  },
  {
   "cell_type": "code",
   "execution_count": 16,
   "metadata": {},
   "outputs": [
    {
     "name": "stdout",
     "output_type": "stream",
     "text": [
      "[[('Prop', ('name', 'Date')),\n",
      "  ('Sec', ('name', 'Recording-2012-04-04-ab')),\n",
      "  ('Sec', ('type', 'DataAcquisition'))],\n",
      " [('Prop', ('name', 'Date')), ('Sec', ('name', 'Recording-2012-04-04-ab'))],\n",
      " [('Prop', ('name', 'Date')), ('Sec', ('type', 'DataAcquisition'))],\n",
      " [('Sec', ('name', 'Recording-2012-04-04-ab')),\n",
      "  ('Sec', ('type', 'DataAcquisition'))],\n",
      " [('Prop', ('name', 'Date'))],\n",
      " [('Sec', ('name', 'Recording-2012-04-04-ab'))],\n",
      " [('Sec', ('type', 'DataAcquisition'))]]\n",
      "{'Sec': [('name', 'Recording-2012-04-04-ab'), ('type', 'DataAcquisition')], 'Prop': [('name', 'Date')]}\n",
      "Execution time:  0.010750622999694315\n",
      "{'Sec': [('name', 'Recording-2012-04-04-ab')], 'Prop': [('name', 'Date')]}\n",
      "Execution time:  0.018043414000203484\n",
      "{'Sec': [('type', 'DataAcquisition')], 'Prop': [('name', 'Date')]}\n",
      "Execution time:  0.12047490700024355\n",
      "{'Sec': [('name', 'Recording-2012-04-04-ab'), ('type', 'DataAcquisition')]}\n",
      "Execution time:  0.006116941000072984\n",
      "Execution time:  0.009307972999522462\n",
      "{'Sec': [('name', 'Recording-2012-04-04-ab')]}\n",
      "Execution time:  0.005367618000491348\n",
      "{'Sec': [('type', 'DataAcquisition')]}\n",
      "Execution time:  0.015106629000001703\n",
      "SELECT * WHERE {\n",
      "?d odml:hasSection ?s .\n",
      "?s rdf:type odml:Section .\n",
      "?s odml:hasName \"Recording-2012-04-04-ab\" .\n",
      "?s odml:hasProperty ?p .\n",
      "?p rdf:type odml:Property .\n",
      "?p odml:hasName \"Date\" .\n",
      "}\n",
      "Section: https://g-node.org/projects/odml-rdf#0cef5dbb-50b7-44f6-9701-3fa49117c41a\n",
      "Document: https://g-node.org/projects/odml-rdf#d9809558-e168-4baa-9450-6ff97ba5ee02\n",
      "Property: https://g-node.org/projects/odml-rdf#3c8645fd-a4d5-4b1d-968f-bcdad83618d6\n",
      "SELECT * WHERE {\n",
      "?s odml:hasProperty ?p .\n",
      "?p rdf:type odml:Property .\n",
      "?p odml:hasName \"Date\" .\n",
      "}\n",
      "Section: https://g-node.org/projects/odml-rdf#6bfe973d-1fd9-4485-ac51-d1b515453792\n",
      "Property: https://g-node.org/projects/odml-rdf#8f502550-c99f-4836-8f70-ce15714b5ddb\n",
      "Section: https://g-node.org/projects/odml-rdf#346773f2-abee-4892-b052-840ddcff35ee\n",
      "Property: https://g-node.org/projects/odml-rdf#138f08f7-23c7-4722-8577-85a6fa633ae1\n",
      "Section: https://g-node.org/projects/odml-rdf#60883539-7397-438a-92d0-0f06786f51b9\n",
      "Property: https://g-node.org/projects/odml-rdf#92ebb982-c328-4f7d-9617-1637937bb782\n",
      "Section: https://g-node.org/projects/odml-rdf#e8ecc342-3ec3-477b-8701-f9ec213863fa\n",
      "Property: https://g-node.org/projects/odml-rdf#f376929b-75d2-417e-bf40-bddeb59369aa\n",
      "Section: https://g-node.org/projects/odml-rdf#5365f7e5-603c-4154-a5ea-33bb1a07a956\n",
      "Property: https://g-node.org/projects/odml-rdf#f1699eb6-4cab-4dd0-9327-120eab2089ae\n",
      "Section: https://g-node.org/projects/odml-rdf#1c58e876-fa1b-4aa6-b987-3fe65c55208f\n",
      "Property: https://g-node.org/projects/odml-rdf#9c41ed29-025a-4606-b787-0f962e15c3a4\n",
      "Section: https://g-node.org/projects/odml-rdf#a1b283ff-0386-45bd-819f-b36534fe83c4\n",
      "Property: https://g-node.org/projects/odml-rdf#b16f8bc9-7cbd-4eb6-abff-8e4da9f6dfde\n",
      "Section: https://g-node.org/projects/odml-rdf#17b2e219-a012-4bc1-8a34-996376197b1b\n",
      "Property: https://g-node.org/projects/odml-rdf#277886ee-19d7-4d28-8c6d-64ab0bf897b9\n",
      "Section: https://g-node.org/projects/odml-rdf#c75a76dd-85fc-4a51-8c31-0f79c004f76b\n",
      "Property: https://g-node.org/projects/odml-rdf#ab9c3075-5b94-4b20-9b34-79dc0385e409\n",
      "Section: https://g-node.org/projects/odml-rdf#3ad10380-ef56-4eae-8551-15d08f2bd35e\n",
      "Property: https://g-node.org/projects/odml-rdf#f9df83e1-93cf-4e61-80a2-4bb213e37ac6\n",
      "Section: https://g-node.org/projects/odml-rdf#bbbba3f8-c6ff-4410-af23-292e7b820066\n",
      "Property: https://g-node.org/projects/odml-rdf#17205c6f-7399-4eab-9634-f1aba468ca37\n",
      "Section: https://g-node.org/projects/odml-rdf#0cef5dbb-50b7-44f6-9701-3fa49117c41a\n",
      "Property: https://g-node.org/projects/odml-rdf#3c8645fd-a4d5-4b1d-968f-bcdad83618d6\n",
      "Section: https://g-node.org/projects/odml-rdf#c2edf620-3656-44de-9cf3-ef8e4c970faf\n",
      "Property: https://g-node.org/projects/odml-rdf#0d34a131-e0f3-4504-affb-9d74bd99af3f\n",
      "Section: https://g-node.org/projects/odml-rdf#bbd44815-5016-49e0-9f4b-5b83778d00de\n",
      "Property: https://g-node.org/projects/odml-rdf#fadffec7-6b23-454e-bfd1-9d5884802abb\n",
      "Section: https://g-node.org/projects/odml-rdf#e5247beb-bf71-4401-a123-36128d81f41a\n",
      "Property: https://g-node.org/projects/odml-rdf#a0cc7cd1-61ce-4b0d-8262-763cddfbe52d\n",
      "Section: https://g-node.org/projects/odml-rdf#c3a2468f-60b3-4fa3-97f7-28846c3251cc\n",
      "Property: https://g-node.org/projects/odml-rdf#879e2d38-b622-4534-83f4-09053e111c41\n",
      "Section: https://g-node.org/projects/odml-rdf#8b0e47d6-6e01-4995-8425-a0bf2592869b\n",
      "Property: https://g-node.org/projects/odml-rdf#7a948117-2898-4a28-b55a-b93f55a2c50a\n",
      "Section: https://g-node.org/projects/odml-rdf#592620e8-ff0e-40f6-ab55-6ad7785d6794\n",
      "Property: https://g-node.org/projects/odml-rdf#db78ecb1-aa1f-4b14-863a-b731ad8dda0c\n",
      "Section: https://g-node.org/projects/odml-rdf#872c8aa1-cb74-413f-b4f8-aab8ff7c0fe4\n",
      "Property: https://g-node.org/projects/odml-rdf#8c7eaa57-940c-4c1b-a453-0178960b3273\n",
      "Section: https://g-node.org/projects/odml-rdf#eec2b554-9b3d-4275-8d20-2c3be0bc64df\n",
      "Property: https://g-node.org/projects/odml-rdf#4381b745-fe03-41ea-9a9d-c7feadcf7651\n",
      "SELECT * WHERE {\n",
      "?d odml:hasSection ?s .\n",
      "?s rdf:type odml:Section .\n",
      "?s odml:hasName \"Recording-2012-04-04-ab\" .\n",
      "}\n",
      "Section: https://g-node.org/projects/odml-rdf#0cef5dbb-50b7-44f6-9701-3fa49117c41a\n",
      "Document: https://g-node.org/projects/odml-rdf#d9809558-e168-4baa-9450-6ff97ba5ee02\n",
      "SELECT * WHERE {\n",
      "?d odml:hasSection ?s .\n",
      "?s rdf:type odml:Section .\n",
      "?s odml:hasType \"DataAcquisition\" .\n",
      "}\n",
      "Section: https://g-node.org/projects/odml-rdf#526fda94-aaa6-41c0-a081-bd6cebffb704\n",
      "Document: https://g-node.org/projects/odml-rdf#1178d709-bdd0-40e1-afb6-61825860ce18\n",
      "Section: https://g-node.org/projects/odml-rdf#d632a7bc-baeb-44ba-88c6-41846f1b2278\n",
      "Document: https://g-node.org/projects/odml-rdf#75845b4a-9c72-4f69-8b93-6b8c53b46465\n",
      "Section: https://g-node.org/projects/odml-rdf#555f500b-0f00-45f9-aeec-f06ec85ce3db\n",
      "Document: https://g-node.org/projects/odml-rdf#462aed5a-1d64-4efa-ad38-3934623bd899\n",
      "Section: https://g-node.org/projects/odml-rdf#0a86baf5-63f1-4e20-88f4-c497d5aa3840\n",
      "Document: https://g-node.org/projects/odml-rdf#b5bd0004-6815-4ee2-a594-bcb34a64d5a9\n",
      "Section: https://g-node.org/projects/odml-rdf#85691000-5e52-449c-9aca-d4421ff93165\n",
      "Document: https://g-node.org/projects/odml-rdf#3cd5400e-af41-44d5-935c-c2ac77ef6bae\n",
      "Section: https://g-node.org/projects/odml-rdf#897d2749-e2cf-485a-9683-15544f44b3db\n",
      "Document: https://g-node.org/projects/odml-rdf#c9c77b68-7748-4823-b0d1-f8a42dac3c61\n",
      "Section: https://g-node.org/projects/odml-rdf#5c6cf90c-8ece-4c91-b532-0bdd5551291c\n",
      "Document: https://g-node.org/projects/odml-rdf#79e11d35-0625-4c96-ae5e-17eb72835feb\n",
      "Section: https://g-node.org/projects/odml-rdf#8ef069e5-90e1-4a05-a2af-653e15e9bf60\n",
      "Document: https://g-node.org/projects/odml-rdf#220d345d-6896-42f0-b9bc-45cd60b7087f\n",
      "Section: https://g-node.org/projects/odml-rdf#544e0d0e-f4e9-4c30-a44e-db5d9c11b1f1\n",
      "Document: https://g-node.org/projects/odml-rdf#a011e796-7734-49cc-a45f-d23e29ff42d0\n",
      "Section: https://g-node.org/projects/odml-rdf#478d90c6-2263-4dbc-adda-38ddb1049486\n",
      "Document: https://g-node.org/projects/odml-rdf#8a97136a-6313-45bd-8727-571fa8318d91\n",
      "Section: https://g-node.org/projects/odml-rdf#46c36c2f-96c4-4970-8ed8-3ec8e3be1a52\n",
      "Document: https://g-node.org/projects/odml-rdf#dd785492-7a08-4e47-ae10-529847a28f6c\n",
      "Section: https://g-node.org/projects/odml-rdf#c015e95f-c32d-4e88-a600-94e1a3261a4d\n",
      "Document: https://g-node.org/projects/odml-rdf#68c18fa5-92b9-4edd-b6df-58a52cffb2c8\n",
      "Section: https://g-node.org/projects/odml-rdf#e89dc5b5-97ec-4814-9023-54334e0447fe\n",
      "Document: https://g-node.org/projects/odml-rdf#1f084bc2-b7a8-467b-9dac-92ad44173a32\n",
      "Section: https://g-node.org/projects/odml-rdf#78d65b18-860a-4c9c-bc21-7b6564caf768\n",
      "Document: https://g-node.org/projects/odml-rdf#4e1c0f09-a042-48a0-bb3f-ee04acb121ab\n",
      "Section: https://g-node.org/projects/odml-rdf#d76aea62-b101-4c68-add1-61ef184f1aa5\n",
      "Document: https://g-node.org/projects/odml-rdf#1178d709-bdd0-40e1-afb6-61825860ce18\n",
      "Section: https://g-node.org/projects/odml-rdf#41299678-838a-4ff8-81bb-78203f45b8a8\n",
      "Document: https://g-node.org/projects/odml-rdf#a011e796-7734-49cc-a45f-d23e29ff42d0\n",
      "Section: https://g-node.org/projects/odml-rdf#654ad4f6-19af-4ea7-9de0-2bce79056f37\n",
      "Document: https://g-node.org/projects/odml-rdf#75845b4a-9c72-4f69-8b93-6b8c53b46465\n",
      "Section: https://g-node.org/projects/odml-rdf#0d60d1cb-052c-4aa9-9e16-21eb5be8f7e1\n",
      "Document: https://g-node.org/projects/odml-rdf#68c18fa5-92b9-4edd-b6df-58a52cffb2c8\n",
      "Section: https://g-node.org/projects/odml-rdf#7fe7ca2c-72a1-426e-9a20-0e917bae6897\n",
      "Document: https://g-node.org/projects/odml-rdf#f11c1bf7-0a02-4d21-9fd3-d79be53feea8\n",
      "Section: https://g-node.org/projects/odml-rdf#70a30a7c-06b8-437f-a8da-3cb8a0609e19\n",
      "Document: https://g-node.org/projects/odml-rdf#8a97136a-6313-45bd-8727-571fa8318d91\n",
      "Section: https://g-node.org/projects/odml-rdf#776d98db-4e03-429a-8edd-f9ba23130726\n",
      "Document: https://g-node.org/projects/odml-rdf#b5bd0004-6815-4ee2-a594-bcb34a64d5a9\n",
      "Section: https://g-node.org/projects/odml-rdf#306bba14-e937-4d72-a317-0e28d808ed94\n",
      "Document: https://g-node.org/projects/odml-rdf#8809e1b2-03e1-41ed-b6a3-479e37a1ef5a\n",
      "Section: https://g-node.org/projects/odml-rdf#6d6f8085-5714-474b-ba08-01afb8cc8f28\n",
      "Document: https://g-node.org/projects/odml-rdf#0d3b0ca8-009f-4b10-91f1-af01d4095b76\n",
      "Section: https://g-node.org/projects/odml-rdf#14fc0991-e4a3-4c2c-bde0-3eba38462be6\n",
      "Document: https://g-node.org/projects/odml-rdf#0d3b0ca8-009f-4b10-91f1-af01d4095b76\n",
      "Section: https://g-node.org/projects/odml-rdf#44bf5744-11ca-4110-a3e0-070f4b1f9a3e\n",
      "Document: https://g-node.org/projects/odml-rdf#e65705f8-f6fe-406d-92aa-ed7d7c54385a\n",
      "Section: https://g-node.org/projects/odml-rdf#49c75007-8988-4b09-8d80-7f1874c68e9f\n",
      "Document: https://g-node.org/projects/odml-rdf#e65705f8-f6fe-406d-92aa-ed7d7c54385a\n",
      "Section: https://g-node.org/projects/odml-rdf#4680686c-8efe-42eb-9d33-2c500e3cf60e\n",
      "Document: https://g-node.org/projects/odml-rdf#c9c77b68-7748-4823-b0d1-f8a42dac3c61\n",
      "Section: https://g-node.org/projects/odml-rdf#d6e43ad7-92e3-40da-b23d-3f166f2415ee\n",
      "Document: https://g-node.org/projects/odml-rdf#4e1c0f09-a042-48a0-bb3f-ee04acb121ab\n",
      "Section: https://g-node.org/projects/odml-rdf#f00995ff-af5d-4db9-8596-1e02872d0e01\n",
      "Document: https://g-node.org/projects/odml-rdf#35736cbe-77eb-4ff3-b2ff-2aad056fe0a2\n",
      "Section: https://g-node.org/projects/odml-rdf#1b958a13-5345-44cd-bc22-d97a9eb2646a\n",
      "Document: https://g-node.org/projects/odml-rdf#79e11d35-0625-4c96-ae5e-17eb72835feb\n",
      "Section: https://g-node.org/projects/odml-rdf#8fc2b9a5-a74c-4888-b4d3-6a456756ac46\n",
      "Document: https://g-node.org/projects/odml-rdf#c949f570-26d0-4b1a-87c1-9cae7dd80d30\n",
      "Section: https://g-node.org/projects/odml-rdf#b904c033-eaad-4226-8dac-93e32196bc50\n",
      "Document: https://g-node.org/projects/odml-rdf#dd785492-7a08-4e47-ae10-529847a28f6c\n",
      "Section: https://g-node.org/projects/odml-rdf#822f3b61-a1a8-40cb-a7bc-380a57b7d702\n",
      "Document: https://g-node.org/projects/odml-rdf#220d345d-6896-42f0-b9bc-45cd60b7087f\n",
      "Section: https://g-node.org/projects/odml-rdf#131b6911-2c70-4cfd-95b4-8e3ab6a60933\n",
      "Document: https://g-node.org/projects/odml-rdf#f11c1bf7-0a02-4d21-9fd3-d79be53feea8\n",
      "Section: https://g-node.org/projects/odml-rdf#5647b090-fe67-46d5-aad4-8e44f6e9deca\n",
      "Document: https://g-node.org/projects/odml-rdf#36ab4f9f-000a-461e-9e01-7da944ac19ab\n",
      "Section: https://g-node.org/projects/odml-rdf#afec728c-0095-4db1-8aa5-aa847461a2b8\n",
      "Document: https://g-node.org/projects/odml-rdf#8809e1b2-03e1-41ed-b6a3-479e37a1ef5a\n",
      "Section: https://g-node.org/projects/odml-rdf#f4509ee5-816d-4b6e-a4a3-2d1598ee9584\n",
      "Document: https://g-node.org/projects/odml-rdf#3cd5400e-af41-44d5-935c-c2ac77ef6bae\n",
      "Section: https://g-node.org/projects/odml-rdf#9b0fd26a-c38e-4187-ac9d-567afaca0bc6\n",
      "Document: https://g-node.org/projects/odml-rdf#35736cbe-77eb-4ff3-b2ff-2aad056fe0a2\n",
      "Section: https://g-node.org/projects/odml-rdf#900abd8d-6071-4cdc-b2eb-6a50e1949f48\n",
      "Document: https://g-node.org/projects/odml-rdf#36ab4f9f-000a-461e-9e01-7da944ac19ab\n",
      "Section: https://g-node.org/projects/odml-rdf#573e7187-328f-4b39-b991-fb6329712043\n",
      "Document: https://g-node.org/projects/odml-rdf#c949f570-26d0-4b1a-87c1-9cae7dd80d30\n",
      "Section: https://g-node.org/projects/odml-rdf#509bfc25-12e7-4ca7-96c9-b40e1f9f69b9\n",
      "Document: https://g-node.org/projects/odml-rdf#462aed5a-1d64-4efa-ad38-3934623bd899\n",
      "Section: https://g-node.org/projects/odml-rdf#7614e579-035c-42cb-be20-820575a71f23\n",
      "Document: https://g-node.org/projects/odml-rdf#00420bf5-e038-4a28-9cc1-c22e0c25da14\n",
      "Section: https://g-node.org/projects/odml-rdf#514324c3-f610-42aa-95c3-b280aeeacf47\n",
      "Document: https://g-node.org/projects/odml-rdf#1f084bc2-b7a8-467b-9dac-92ad44173a32\n",
      "Section: https://g-node.org/projects/odml-rdf#4d56355b-1545-4ff7-ad5a-088c4f20d8e5\n",
      "Document: https://g-node.org/projects/odml-rdf#00420bf5-e038-4a28-9cc1-c22e0c25da14\n",
      "\n"
     ]
    }
   ],
   "source": [
    "from odml.tools.fuzzy_finder import FuzzyFinder\n",
    "\n",
    "query_string = 'prop(name:Date) section(name:Recording-2012-04-04-ab, type:DataAcquisition)'\n",
    "f = FuzzyFinder(graph)\n",
    "print(f.find(graph, q_str=query_string))"
   ]
  },
  {
   "cell_type": "markdown",
   "metadata": {},
   "source": [
    "Query statistics for simple fuzzy queries. Results are represented for all subsets of queries.\n",
    "\n",
    "| Number of triples | Time, seconds    |\n",
    "|:------------------|:-----------------|\n",
    "| 17000             | < 1 sec          |\n",
    "| 100000            | < 5 sec          |"
   ]
  }
 ],
 "metadata": {
  "kernelspec": {
   "display_name": "Python 3",
   "language": "python",
   "name": "python3"
  },
  "language_info": {
   "codemirror_mode": {
    "name": "ipython",
    "version": 3
   },
   "file_extension": ".py",
   "mimetype": "text/x-python",
   "name": "python",
   "nbconvert_exporter": "python",
   "pygments_lexer": "ipython3",
   "version": "3.5.2"
  }
 },
 "nbformat": 4,
 "nbformat_minor": 2
}
